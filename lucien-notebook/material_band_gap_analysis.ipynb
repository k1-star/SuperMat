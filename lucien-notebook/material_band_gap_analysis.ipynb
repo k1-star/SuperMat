{
 "cells": [
  {
   "cell_type": "markdown",
   "id": "24d78344-c3a8-4764-931a-e37636f240d1",
   "metadata": {},
   "source": [
    "# Welcome to Lucien Notebook! 🎉\n",
    "\n",
    "Welcome to Lucien's interactive programming environment! Here you can:\n",
    "- Write and execute code\n",
    "- Create data visualizations\n",
    "- Explore and create interesting content with Lucien Agent\n",
    "\n",
    "## Working with Files in Your Directory 📁\n",
    "\n",
    "Lucien Notebook is configured to use your working directory as the base directory for all file operations. This means you can easily access files in your project:\n",
    "\n",
    "```python\n",
    "# Read a file directly from your working directory\n",
    "with open('input.txt', 'r') as f:\n",
    "    content = f.read()\n",
    "\n",
    "# Write to a file in your working directory\n",
    "with open('output.txt', 'w') as f:\n",
    "    f.write('Hello, Lucien!')\n",
    "\n",
    "# List files in your working directory\n",
    "import os\n",
    "files = os.listdir('.')\n",
    "print(files)\n",
    "```\n",
    "\n",
    "You can also use relative paths to access subdirectories:\n",
    "\n",
    "```python\n",
    "# Access files in subdirectories\n",
    "with open('subfolder/data.json', 'r') as f:\n",
    "    import json\n",
    "    data = json.load(f)\n",
    "```\n",
    "\n",
    "> 💡 **Tip**: The notebook kernel is already configured to use your working directory as the current directory, so you can use simple relative paths without any additional setup.\n",
    "\n",
    "Start exploring now!"
   ]
  }
 ],
 "metadata": {
  "kernelspec": {
   "display_name": "Python 3 (ipykernel)",
   "language": "python",
   "name": "python3"
  },
  "language_info": {
   "codemirror_mode": {
    "name": "ipython",
    "version": 3
   },
   "file_extension": ".py",
   "mimetype": "text/x-python",
   "name": "python",
   "nbconvert_exporter": "python",
   "pygments_lexer": "ipython3",
   "version": "3.12.7"
  }
 },
 "nbformat": 4,
 "nbformat_minor": 5
}
